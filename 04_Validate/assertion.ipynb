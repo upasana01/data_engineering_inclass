{
 "cells": [
  {
   "cell_type": "markdown",
   "id": "818843c5",
   "metadata": {},
   "source": [
    "# Data Validation Inclass activity "
   ]
  },
  {
   "cell_type": "code",
   "execution_count": 1,
   "id": "8f37c3fa",
   "metadata": {},
   "outputs": [],
   "source": [
    "#reading the csv file"
   ]
  },
  {
   "cell_type": "code",
   "execution_count": 2,
   "id": "d10e556f",
   "metadata": {},
   "outputs": [
    {
     "data": {
      "text/html": [
       "<div>\n",
       "<style scoped>\n",
       "    .dataframe tbody tr th:only-of-type {\n",
       "        vertical-align: middle;\n",
       "    }\n",
       "\n",
       "    .dataframe tbody tr th {\n",
       "        vertical-align: top;\n",
       "    }\n",
       "\n",
       "    .dataframe thead th {\n",
       "        text-align: right;\n",
       "    }\n",
       "</style>\n",
       "<table border=\"1\" class=\"dataframe\">\n",
       "  <thead>\n",
       "    <tr style=\"text-align: right;\">\n",
       "      <th></th>\n",
       "      <th>Crash ID</th>\n",
       "      <th>Record Type</th>\n",
       "      <th>Vehicle ID</th>\n",
       "      <th>Participant ID</th>\n",
       "      <th>Participant Display Seq#</th>\n",
       "      <th>Vehicle Coded Seq#</th>\n",
       "      <th>Participant Vehicle Seq#</th>\n",
       "      <th>Serial #</th>\n",
       "      <th>Crash Month</th>\n",
       "      <th>Crash Day</th>\n",
       "      <th>...</th>\n",
       "      <th>Participant Cause 2 Code</th>\n",
       "      <th>Participant Cause 3 Code</th>\n",
       "      <th>Participant Event 1 Code</th>\n",
       "      <th>Participant Event 2 Code</th>\n",
       "      <th>Participant Event 3 Code</th>\n",
       "      <th>BAC Test Results Code</th>\n",
       "      <th>Alcohol Use Reported</th>\n",
       "      <th>Drug Use Reported</th>\n",
       "      <th>Participant Marijuana Use Reported</th>\n",
       "      <th>Participant Striker Flag</th>\n",
       "    </tr>\n",
       "  </thead>\n",
       "  <tbody>\n",
       "    <tr>\n",
       "      <th>0</th>\n",
       "      <td>1809119</td>\n",
       "      <td>1</td>\n",
       "      <td>NaN</td>\n",
       "      <td>NaN</td>\n",
       "      <td>NaN</td>\n",
       "      <td>NaN</td>\n",
       "      <td>NaN</td>\n",
       "      <td>99992.0</td>\n",
       "      <td>3.0</td>\n",
       "      <td>14.0</td>\n",
       "      <td>...</td>\n",
       "      <td>NaN</td>\n",
       "      <td>NaN</td>\n",
       "      <td>NaN</td>\n",
       "      <td>NaN</td>\n",
       "      <td>NaN</td>\n",
       "      <td>NaN</td>\n",
       "      <td>NaN</td>\n",
       "      <td>NaN</td>\n",
       "      <td>NaN</td>\n",
       "      <td>NaN</td>\n",
       "    </tr>\n",
       "    <tr>\n",
       "      <th>1</th>\n",
       "      <td>1809119</td>\n",
       "      <td>2</td>\n",
       "      <td>3409578.0</td>\n",
       "      <td>NaN</td>\n",
       "      <td>NaN</td>\n",
       "      <td>1.0</td>\n",
       "      <td>NaN</td>\n",
       "      <td>NaN</td>\n",
       "      <td>NaN</td>\n",
       "      <td>NaN</td>\n",
       "      <td>...</td>\n",
       "      <td>NaN</td>\n",
       "      <td>NaN</td>\n",
       "      <td>NaN</td>\n",
       "      <td>NaN</td>\n",
       "      <td>NaN</td>\n",
       "      <td>NaN</td>\n",
       "      <td>NaN</td>\n",
       "      <td>NaN</td>\n",
       "      <td>NaN</td>\n",
       "      <td>NaN</td>\n",
       "    </tr>\n",
       "    <tr>\n",
       "      <th>2</th>\n",
       "      <td>1809119</td>\n",
       "      <td>3</td>\n",
       "      <td>3409578.0</td>\n",
       "      <td>3887884.0</td>\n",
       "      <td>1.0</td>\n",
       "      <td>1.0</td>\n",
       "      <td>1.0</td>\n",
       "      <td>NaN</td>\n",
       "      <td>NaN</td>\n",
       "      <td>NaN</td>\n",
       "      <td>...</td>\n",
       "      <td>NaN</td>\n",
       "      <td>0.0</td>\n",
       "      <td>9.0</td>\n",
       "      <td>0.0</td>\n",
       "      <td>0.0</td>\n",
       "      <td>NaN</td>\n",
       "      <td>NaN</td>\n",
       "      <td>NaN</td>\n",
       "      <td>NaN</td>\n",
       "      <td>NaN</td>\n",
       "    </tr>\n",
       "    <tr>\n",
       "      <th>3</th>\n",
       "      <td>1809119</td>\n",
       "      <td>2</td>\n",
       "      <td>3409579.0</td>\n",
       "      <td>NaN</td>\n",
       "      <td>NaN</td>\n",
       "      <td>2.0</td>\n",
       "      <td>NaN</td>\n",
       "      <td>NaN</td>\n",
       "      <td>NaN</td>\n",
       "      <td>NaN</td>\n",
       "      <td>...</td>\n",
       "      <td>NaN</td>\n",
       "      <td>NaN</td>\n",
       "      <td>NaN</td>\n",
       "      <td>NaN</td>\n",
       "      <td>NaN</td>\n",
       "      <td>NaN</td>\n",
       "      <td>NaN</td>\n",
       "      <td>NaN</td>\n",
       "      <td>NaN</td>\n",
       "      <td>NaN</td>\n",
       "    </tr>\n",
       "    <tr>\n",
       "      <th>4</th>\n",
       "      <td>1809119</td>\n",
       "      <td>3</td>\n",
       "      <td>3409579.0</td>\n",
       "      <td>3887885.0</td>\n",
       "      <td>2.0</td>\n",
       "      <td>2.0</td>\n",
       "      <td>1.0</td>\n",
       "      <td>NaN</td>\n",
       "      <td>NaN</td>\n",
       "      <td>NaN</td>\n",
       "      <td>...</td>\n",
       "      <td>NaN</td>\n",
       "      <td>NaN</td>\n",
       "      <td>9.0</td>\n",
       "      <td>9.0</td>\n",
       "      <td>0.0</td>\n",
       "      <td>NaN</td>\n",
       "      <td>NaN</td>\n",
       "      <td>NaN</td>\n",
       "      <td>NaN</td>\n",
       "      <td>NaN</td>\n",
       "    </tr>\n",
       "  </tbody>\n",
       "</table>\n",
       "<p>5 rows × 157 columns</p>\n",
       "</div>"
      ],
      "text/plain": [
       "   Crash ID  Record Type  Vehicle ID  Participant ID  \\\n",
       "0   1809119            1         NaN             NaN   \n",
       "1   1809119            2   3409578.0             NaN   \n",
       "2   1809119            3   3409578.0       3887884.0   \n",
       "3   1809119            2   3409579.0             NaN   \n",
       "4   1809119            3   3409579.0       3887885.0   \n",
       "\n",
       "   Participant Display Seq#  Vehicle Coded Seq#  Participant Vehicle Seq#  \\\n",
       "0                       NaN                 NaN                       NaN   \n",
       "1                       NaN                 1.0                       NaN   \n",
       "2                       1.0                 1.0                       1.0   \n",
       "3                       NaN                 2.0                       NaN   \n",
       "4                       2.0                 2.0                       1.0   \n",
       "\n",
       "   Serial #  Crash Month  Crash Day  ...  Participant Cause 2 Code  \\\n",
       "0   99992.0          3.0       14.0  ...                       NaN   \n",
       "1       NaN          NaN        NaN  ...                       NaN   \n",
       "2       NaN          NaN        NaN  ...                       NaN   \n",
       "3       NaN          NaN        NaN  ...                       NaN   \n",
       "4       NaN          NaN        NaN  ...                       NaN   \n",
       "\n",
       "   Participant Cause 3 Code  Participant Event 1 Code  \\\n",
       "0                       NaN                       NaN   \n",
       "1                       NaN                       NaN   \n",
       "2                       0.0                       9.0   \n",
       "3                       NaN                       NaN   \n",
       "4                       NaN                       9.0   \n",
       "\n",
       "   Participant Event 2 Code  Participant Event 3 Code  BAC Test Results Code  \\\n",
       "0                       NaN                       NaN                    NaN   \n",
       "1                       NaN                       NaN                    NaN   \n",
       "2                       0.0                       0.0                    NaN   \n",
       "3                       NaN                       NaN                    NaN   \n",
       "4                       9.0                       0.0                    NaN   \n",
       "\n",
       "   Alcohol Use Reported  Drug Use Reported  \\\n",
       "0                   NaN                NaN   \n",
       "1                   NaN                NaN   \n",
       "2                   NaN                NaN   \n",
       "3                   NaN                NaN   \n",
       "4                   NaN                NaN   \n",
       "\n",
       "   Participant Marijuana Use Reported  Participant Striker Flag  \n",
       "0                                 NaN                       NaN  \n",
       "1                                 NaN                       NaN  \n",
       "2                                 NaN                       NaN  \n",
       "3                                 NaN                       NaN  \n",
       "4                                 NaN                       NaN  \n",
       "\n",
       "[5 rows x 157 columns]"
      ]
     },
     "execution_count": 2,
     "metadata": {},
     "output_type": "execute_result"
    }
   ],
   "source": [
    "import pandas as pd \n",
    "import numpy as np\n",
    "df = pd.read_csv(\"Hwy26Crashes2019_S23.csv\")\n",
    "df.head()"
   ]
  },
  {
   "cell_type": "code",
   "execution_count": 3,
   "id": "23f530f0",
   "metadata": {},
   "outputs": [
    {
     "data": {
      "text/plain": [
       "['Crash ID',\n",
       " 'Record Type',\n",
       " 'Vehicle ID',\n",
       " 'Participant ID',\n",
       " 'Participant Display Seq#',\n",
       " 'Vehicle Coded Seq#',\n",
       " 'Participant Vehicle Seq#',\n",
       " 'Serial #',\n",
       " 'Crash Month',\n",
       " 'Crash Day',\n",
       " 'Crash Year',\n",
       " 'Week Day Code',\n",
       " 'Crash Hour',\n",
       " 'County Code',\n",
       " 'City Section ID',\n",
       " 'Urban Area Code',\n",
       " 'Functional Class Code',\n",
       " 'NHS Flag',\n",
       " 'Highway Number',\n",
       " 'Highway Suffix',\n",
       " 'Roadway Number',\n",
       " 'Highway Component',\n",
       " 'Mileage Type',\n",
       " 'Connection Number',\n",
       " 'Linear Reference System (LRS)',\n",
       " 'Latitude Degrees',\n",
       " 'Latitude Minutes',\n",
       " 'Latitude Seconds',\n",
       " 'Longitude Degrees',\n",
       " 'Longitude Minutes',\n",
       " 'Longitude Seconds',\n",
       " 'Latitude (Decimal Degrees)',\n",
       " 'Longitude (Decimal Degrees)',\n",
       " 'Special Jurisdiction',\n",
       " 'Jurisdiction Group',\n",
       " 'Street Number',\n",
       " 'Nearest Intersecting Street Number',\n",
       " 'Intersection Sequence Number',\n",
       " 'Distance from Intersection',\n",
       " 'Direction From Intersection',\n",
       " 'Milepoint',\n",
       " 'Posted Speed Limit',\n",
       " 'Road Character',\n",
       " 'Off Roadway Flag',\n",
       " 'Intersection Type',\n",
       " 'Intersection Related Flag',\n",
       " 'Roundabout Flag',\n",
       " 'Driveway Related Flag',\n",
       " 'Number of Lanes',\n",
       " 'Number of Turning Legs',\n",
       " 'Median Type',\n",
       " 'Impact Location',\n",
       " 'Crash Type',\n",
       " 'Collision Type',\n",
       " 'Crash Severity',\n",
       " 'Weather Condition',\n",
       " 'Road Surface Condition',\n",
       " 'Light Condition',\n",
       " 'Traffic Control Device (TCD)',\n",
       " 'TCD Functional Flag',\n",
       " 'Investigating Agency',\n",
       " 'Crash Level Event 1 Code',\n",
       " 'Crash Level Event 2 Code',\n",
       " 'Crash Level Event 3 Code',\n",
       " 'Crash Level Cause 1 Code',\n",
       " 'Crash Level Cause 2 Code',\n",
       " 'Crash Level Cause 3 Code',\n",
       " 'School Zone Indicator',\n",
       " 'Work Zone Indicator',\n",
       " 'Secondary Crash Indicator',\n",
       " 'Alcohol-Involved Flag',\n",
       " 'Drugs Involved Flag',\n",
       " 'Crash Marijuana Involved Flag',\n",
       " 'Speed Involved Flag',\n",
       " 'Crash Level Hit & Run Flag',\n",
       " 'Population Range Code',\n",
       " 'Road Control',\n",
       " 'Route Type',\n",
       " 'Route Number',\n",
       " 'Region ID',\n",
       " 'District ID',\n",
       " 'Segment Marker ID',\n",
       " 'Segment Point LRS Measure',\n",
       " 'Unlocatable Flag',\n",
       " 'Total Vehicle Count',\n",
       " 'Total Fatality Count',\n",
       " 'Total Suspected Serious Injury (A) Count',\n",
       " 'Total Suspected Minor Injury (B) Count',\n",
       " 'Total Possible Injury (C) Count',\n",
       " 'Total Non-Fatal Injury Count',\n",
       " 'Total Un-Injured  Children Age 00-04',\n",
       " 'Total Un-Injured Persons',\n",
       " 'Total Pedestrian Count',\n",
       " 'Total Pedestrian Fatality Count',\n",
       " 'Total Pedestrian Non-Fatal Injury Count',\n",
       " 'Total Pedalcyclist Count',\n",
       " 'Total Pedalcyclist Fatality Count',\n",
       " 'Total Pedalcyclist Non-Fatal Injury Count',\n",
       " 'Total Unknown Non-Motorist Count',\n",
       " 'Total Unknown Non-Motorist Fatality Count',\n",
       " 'Total Unknown Non-Motorist Injury Count',\n",
       " 'Total Vehicle Occupant Count',\n",
       " 'Total Count of Persons Involved',\n",
       " 'Total Persons Using Safety Equipment  ',\n",
       " 'Total Persons Not Using Safety Equipment',\n",
       " 'Total Persons Safety Equipment Use Unknown',\n",
       " 'Vehicle Ownership Code',\n",
       " 'Vehicle Special Use Code',\n",
       " 'Vehicle Type Code',\n",
       " 'Emergency Use Flag',\n",
       " 'Number of Trailers',\n",
       " 'Vehicle Movement Code',\n",
       " 'Vehicle Travel Direction From',\n",
       " 'Vehicle Travel Direction To',\n",
       " 'Vehicle Action Code',\n",
       " 'Vehicle Cause 1 Code',\n",
       " 'Vehicle Cause 2 Code',\n",
       " 'Vehicle Cause 3 Code',\n",
       " 'Vehicle Event 1 Code',\n",
       " 'Vehicle Event 2 Code',\n",
       " 'Vehicle Event 3 Code',\n",
       " 'Vehicle Exceeded Posted Speed Flag',\n",
       " 'Vehicle Hit & Run Flag',\n",
       " 'Safety Equipment Used Quantity',\n",
       " 'Safety Equipment Un-used Quantity',\n",
       " 'Safety Equipment Use Unknown Quantity',\n",
       " 'Vehicle Occupant Count',\n",
       " 'Vehicle Striking Flag',\n",
       " 'Participant Type Code',\n",
       " 'Participant Hit & Run Flag',\n",
       " 'Public Employee Flag',\n",
       " 'Sex',\n",
       " 'Age',\n",
       " 'Driver License Status',\n",
       " 'Driver Residence Status',\n",
       " 'Injury Severity',\n",
       " 'Participant Safety Equipment Use Code',\n",
       " 'Airbag Deployment',\n",
       " 'Non-Motorist Movement Code',\n",
       " 'Non-Motorist Travel Direction From',\n",
       " 'Non-Motorist Travel Direction To',\n",
       " 'Non-Motorist Location',\n",
       " 'Participant Action',\n",
       " 'Participant Error 1 Code',\n",
       " 'Participant Error 2 Code',\n",
       " 'Participant Error 3 Code',\n",
       " 'Participant Cause 1 Code',\n",
       " 'Participant Cause 2 Code',\n",
       " 'Participant Cause 3 Code',\n",
       " 'Participant Event 1 Code',\n",
       " 'Participant Event 2 Code',\n",
       " 'Participant Event 3 Code',\n",
       " 'BAC Test Results Code',\n",
       " 'Alcohol Use Reported',\n",
       " 'Drug Use Reported',\n",
       " 'Participant Marijuana Use Reported',\n",
       " 'Participant Striker Flag']"
      ]
     },
     "execution_count": 3,
     "metadata": {},
     "output_type": "execute_result"
    }
   ],
   "source": [
    "a = list(df.columns)\n",
    "a"
   ]
  },
  {
   "cell_type": "markdown",
   "id": "8dd97522",
   "metadata": {},
   "source": [
    "# Existence Assertion"
   ]
  },
  {
   "cell_type": "code",
   "execution_count": 4,
   "id": "43f6a85e",
   "metadata": {},
   "outputs": [
    {
     "ename": "AssertionError",
     "evalue": "Not every crash occurred on a date",
     "output_type": "error",
     "traceback": [
      "\u001b[1;31m---------------------------------------------------------------------------\u001b[0m",
      "\u001b[1;31mAssertionError\u001b[0m                            Traceback (most recent call last)",
      "Cell \u001b[1;32mIn[4], line 6\u001b[0m\n\u001b[0;32m      3\u001b[0m df[\u001b[38;5;124m'\u001b[39m\u001b[38;5;124mdate\u001b[39m\u001b[38;5;124m'\u001b[39m] \u001b[38;5;241m=\u001b[39m pd\u001b[38;5;241m.\u001b[39mto_datetime(\u001b[38;5;28mdict\u001b[39m(year\u001b[38;5;241m=\u001b[39mdf[\u001b[38;5;124m\"\u001b[39m\u001b[38;5;124mCrash Year\u001b[39m\u001b[38;5;124m\"\u001b[39m], month\u001b[38;5;241m=\u001b[39mdf[\u001b[38;5;124m\"\u001b[39m\u001b[38;5;124mCrash Month\u001b[39m\u001b[38;5;124m\"\u001b[39m], day\u001b[38;5;241m=\u001b[39mdf[\u001b[38;5;124m\"\u001b[39m\u001b[38;5;124mCrash Day\u001b[39m\u001b[38;5;124m\"\u001b[39m]))\n\u001b[0;32m      5\u001b[0m \u001b[38;5;66;03m# check that the 'date' column does not have any null values\u001b[39;00m\n\u001b[1;32m----> 6\u001b[0m \u001b[38;5;28;01massert\u001b[39;00m pd\u001b[38;5;241m.\u001b[39mnotnull(df[\u001b[38;5;124m'\u001b[39m\u001b[38;5;124mdate\u001b[39m\u001b[38;5;124m'\u001b[39m])\u001b[38;5;241m.\u001b[39mall(), \u001b[38;5;124m\"\u001b[39m\u001b[38;5;124mNot every crash occurred on a date\u001b[39m\u001b[38;5;124m\"\u001b[39m\n",
      "\u001b[1;31mAssertionError\u001b[0m: Not every crash occurred on a date"
     ]
    }
   ],
   "source": [
    "#Created a date column from other 3 columns.(Day,Month,Year)\n",
    "\n",
    "df['date'] = pd.to_datetime(dict(year=df[\"Crash Year\"], month=df[\"Crash Month\"], day=df[\"Crash Day\"]))\n",
    "\n",
    "# check that the 'date' column does not have any null values\n",
    "assert pd.notnull(df['date']).all(), \"Not every crash occurred on a date\""
   ]
  },
  {
   "cell_type": "code",
   "execution_count": 5,
   "id": "b891cfb2",
   "metadata": {},
   "outputs": [
    {
     "data": {
      "text/plain": [
       "2231"
      ]
     },
     "execution_count": 5,
     "metadata": {},
     "output_type": "execute_result"
    }
   ],
   "source": [
    "null_count_date = df['date'].isnull().sum()\n",
    "null_count_date"
   ]
  },
  {
   "cell_type": "code",
   "execution_count": 6,
   "id": "a9c8ff55",
   "metadata": {},
   "outputs": [],
   "source": [
    "# Every crash record should have a Crash ID\n",
    "assert pd.notnull(df['Crash ID']).all(), \"Some crash records do not have a Crash ID\""
   ]
  },
  {
   "cell_type": "markdown",
   "id": "6e0757a3",
   "metadata": {},
   "source": [
    "# Limit assertions"
   ]
  },
  {
   "cell_type": "markdown",
   "id": "7067b8a1",
   "metadata": {},
   "source": [
    "1"
   ]
  },
  {
   "cell_type": "code",
   "execution_count": 7,
   "id": "9b37d1e0",
   "metadata": {},
   "outputs": [
    {
     "ename": "AssertionError",
     "evalue": "Not every crash occurred during year 2019",
     "output_type": "error",
     "traceback": [
      "\u001b[1;31m---------------------------------------------------------------------------\u001b[0m",
      "\u001b[1;31mAssertionError\u001b[0m                            Traceback (most recent call last)",
      "Cell \u001b[1;32mIn[7], line 2\u001b[0m\n\u001b[0;32m      1\u001b[0m \u001b[38;5;66;03m# check that all dates are in year 2019\u001b[39;00m\n\u001b[1;32m----> 2\u001b[0m \u001b[38;5;28;01massert\u001b[39;00m (df[\u001b[38;5;124m'\u001b[39m\u001b[38;5;124mdate\u001b[39m\u001b[38;5;124m'\u001b[39m]\u001b[38;5;241m.\u001b[39mdt\u001b[38;5;241m.\u001b[39myear \u001b[38;5;241m==\u001b[39m \u001b[38;5;241m2019\u001b[39m)\u001b[38;5;241m.\u001b[39mall(), \u001b[38;5;124m\"\u001b[39m\u001b[38;5;124mNot every crash occurred during year 2019\u001b[39m\u001b[38;5;124m\"\u001b[39m\n",
      "\u001b[1;31mAssertionError\u001b[0m: Not every crash occurred during year 2019"
     ]
    }
   ],
   "source": [
    "# check that all dates are in year 2019\n",
    "assert (df['date'].dt.year == 2019).all(), \"Not every crash occurred during year 2019\""
   ]
  },
  {
   "cell_type": "code",
   "execution_count": 8,
   "id": "8d825111",
   "metadata": {},
   "outputs": [
    {
     "name": "stdout",
     "output_type": "stream",
     "text": [
      "Number of values in 'year' column that are not 2019 or null: 0\n"
     ]
    }
   ],
   "source": [
    "count = len(df[~df['Crash Year'].isin([2019, np.nan])])\n",
    "print(f\"Number of values in 'year' column that are not 2019 or null: {count}\")"
   ]
  },
  {
   "cell_type": "markdown",
   "id": "a5c216a7",
   "metadata": {},
   "source": [
    "2"
   ]
  },
  {
   "cell_type": "code",
   "execution_count": 34,
   "id": "aece0a14",
   "metadata": {},
   "outputs": [],
   "source": [
    "# The Latitude and Longitude coordinates for all crashes should fall within a certain range\n",
    "#I filtered out record type because that is necessary for logitude and latitude data \n",
    "assert df.loc[df['Record Type'] == 1, 'Longitude Degrees'].between(-180, 180).all(), \"Some crash records have longitude coordinates outside the specified range\"\n",
    "assert df.loc[df['Record Type'] == 1, 'Latitude Degrees'].between(-180, 180).all(), \"Some crash records have latitude coordinates outside the specified range\""
   ]
  },
  {
   "cell_type": "code",
   "execution_count": 35,
   "id": "4c74af4a",
   "metadata": {},
   "outputs": [
    {
     "data": {
      "text/html": [
       "<div>\n",
       "<style scoped>\n",
       "    .dataframe tbody tr th:only-of-type {\n",
       "        vertical-align: middle;\n",
       "    }\n",
       "\n",
       "    .dataframe tbody tr th {\n",
       "        vertical-align: top;\n",
       "    }\n",
       "\n",
       "    .dataframe thead th {\n",
       "        text-align: right;\n",
       "    }\n",
       "</style>\n",
       "<table border=\"1\" class=\"dataframe\">\n",
       "  <thead>\n",
       "    <tr style=\"text-align: right;\">\n",
       "      <th></th>\n",
       "      <th>Crash ID</th>\n",
       "      <th>Record Type</th>\n",
       "      <th>Vehicle ID</th>\n",
       "      <th>Participant ID</th>\n",
       "      <th>Participant Display Seq#</th>\n",
       "      <th>Vehicle Coded Seq#</th>\n",
       "      <th>Participant Vehicle Seq#</th>\n",
       "      <th>Serial #</th>\n",
       "      <th>Crash Month</th>\n",
       "      <th>Crash Day</th>\n",
       "      <th>...</th>\n",
       "      <th>Participant Cause 3 Code</th>\n",
       "      <th>Participant Event 1 Code</th>\n",
       "      <th>Participant Event 2 Code</th>\n",
       "      <th>Participant Event 3 Code</th>\n",
       "      <th>BAC Test Results Code</th>\n",
       "      <th>Alcohol Use Reported</th>\n",
       "      <th>Drug Use Reported</th>\n",
       "      <th>Participant Marijuana Use Reported</th>\n",
       "      <th>Participant Striker Flag</th>\n",
       "      <th>date</th>\n",
       "    </tr>\n",
       "  </thead>\n",
       "  <tbody>\n",
       "  </tbody>\n",
       "</table>\n",
       "<p>0 rows × 158 columns</p>\n",
       "</div>"
      ],
      "text/plain": [
       "Empty DataFrame\n",
       "Columns: [Crash ID, Record Type, Vehicle ID, Participant ID, Participant Display Seq#, Vehicle Coded Seq#, Participant Vehicle Seq#, Serial #, Crash Month, Crash Day, Crash Year, Week Day Code, Crash Hour, County Code, City Section ID, Urban Area Code, Functional Class Code, NHS Flag, Highway Number, Highway Suffix, Roadway Number, Highway Component, Mileage Type, Connection Number, Linear Reference System (LRS), Latitude Degrees, Latitude Minutes, Latitude Seconds, Longitude Degrees, Longitude Minutes, Longitude Seconds, Latitude (Decimal Degrees), Longitude (Decimal Degrees), Special Jurisdiction, Jurisdiction Group, Street Number, Nearest Intersecting Street Number, Intersection Sequence Number, Distance from Intersection, Direction From Intersection, Milepoint, Posted Speed Limit, Road Character, Off Roadway Flag, Intersection Type, Intersection Related Flag, Roundabout Flag, Driveway Related Flag, Number of Lanes, Number of Turning Legs, Median Type, Impact Location, Crash Type, Collision Type, Crash Severity, Weather Condition, Road Surface Condition, Light Condition, Traffic Control Device (TCD), TCD Functional Flag, Investigating Agency, Crash Level Event 1 Code, Crash Level Event 2 Code, Crash Level Event 3 Code, Crash Level Cause 1 Code, Crash Level Cause 2 Code, Crash Level Cause 3 Code, School Zone Indicator, Work Zone Indicator, Secondary Crash Indicator, Alcohol-Involved Flag, Drugs Involved Flag, Crash Marijuana Involved Flag, Speed Involved Flag, Crash Level Hit & Run Flag, Population Range Code, Road Control, Route Type, Route Number, Region ID, District ID, Segment Marker ID, Segment Point LRS Measure, Unlocatable Flag, Total Vehicle Count, Total Fatality Count, Total Suspected Serious Injury (A) Count, Total Suspected Minor Injury (B) Count, Total Possible Injury (C) Count, Total Non-Fatal Injury Count, Total Un-Injured  Children Age 00-04, Total Un-Injured Persons, Total Pedestrian Count, Total Pedestrian Fatality Count, Total Pedestrian Non-Fatal Injury Count, Total Pedalcyclist Count, Total Pedalcyclist Fatality Count, Total Pedalcyclist Non-Fatal Injury Count, Total Unknown Non-Motorist Count, Total Unknown Non-Motorist Fatality Count, ...]\n",
       "Index: []\n",
       "\n",
       "[0 rows x 158 columns]"
      ]
     },
     "execution_count": 35,
     "metadata": {},
     "output_type": "execute_result"
    }
   ],
   "source": [
    "df[(df['Longitude Degrees'].between(-180, 180)) & (df['Record Type'] == 2) & (df['Record Type'] == 3)]\n"
   ]
  },
  {
   "cell_type": "markdown",
   "id": "af2f834c",
   "metadata": {},
   "source": [
    "# intra-record assertions"
   ]
  },
  {
   "cell_type": "code",
   "execution_count": 67,
   "id": "7ce79fe1",
   "metadata": {},
   "outputs": [],
   "source": [
    "# If a crash record has a Participant ID, it should also have a Participant Display Seq\n",
    "assert df[df['Participant ID'].notnull()]['Participant Display Seq#'].notnull().all(), \"Some crash records with a Participant ID do not have a Participant Type Code\""
   ]
  },
  {
   "cell_type": "code",
   "execution_count": 66,
   "id": "c13351f7",
   "metadata": {},
   "outputs": [],
   "source": [
    "#If a crash record has a latitude coordinate, then it should also have a longitude coordinate\n",
    "assert df['Latitude Degrees'].notnull().all() == df['Longitude Degrees'].notnull().all(), \"Latitude and longitude coordinates should have corresponding values\"\n"
   ]
  },
  {
   "cell_type": "markdown",
   "id": "2205058c",
   "metadata": {},
   "source": [
    "# inter-record assertions"
   ]
  },
  {
   "cell_type": "code",
   "execution_count": 46,
   "id": "a7b480ed",
   "metadata": {},
   "outputs": [
    {
     "ename": "AssertionError",
     "evalue": "Not every vehicle listed in the crash data was part of a known crash",
     "output_type": "error",
     "traceback": [
      "\u001b[1;31m---------------------------------------------------------------------------\u001b[0m",
      "\u001b[1;31mAssertionError\u001b[0m                            Traceback (most recent call last)",
      "Cell \u001b[1;32mIn[46], line 2\u001b[0m\n\u001b[0;32m      1\u001b[0m \u001b[38;5;66;03m# check that all vehicle IDs in the 'vehicle_id' column are present in the 'crash_id' column\u001b[39;00m\n\u001b[1;32m----> 2\u001b[0m \u001b[38;5;28;01massert\u001b[39;00m \u001b[38;5;28mset\u001b[39m(df[\u001b[38;5;124m'\u001b[39m\u001b[38;5;124mVehicle ID\u001b[39m\u001b[38;5;124m'\u001b[39m])\u001b[38;5;241m.\u001b[39missubset(\u001b[38;5;28mset\u001b[39m(df[\u001b[38;5;124m'\u001b[39m\u001b[38;5;124mCrash ID\u001b[39m\u001b[38;5;124m'\u001b[39m])), \u001b[38;5;124m\"\u001b[39m\u001b[38;5;124mNot every vehicle listed in the crash data was part of a known crash\u001b[39m\u001b[38;5;124m\"\u001b[39m\n",
      "\u001b[1;31mAssertionError\u001b[0m: Not every vehicle listed in the crash data was part of a known crash"
     ]
    }
   ],
   "source": [
    "# check that all vehicle IDs in the 'vehicle_id' column are present in the 'crash_id' column\n",
    "assert set(df['Vehicle ID']).issubset(set(df['Crash ID'])), \"Not every vehicle listed in the crash data was part of a known crash\"\n"
   ]
  },
  {
   "cell_type": "code",
   "execution_count": 48,
   "id": "ea128304",
   "metadata": {},
   "outputs": [
    {
     "ename": "AssertionError",
     "evalue": "Vehicle ID nan is associated with 0 Crash IDs",
     "output_type": "error",
     "traceback": [
      "\u001b[1;31m---------------------------------------------------------------------------\u001b[0m",
      "\u001b[1;31mAssertionError\u001b[0m                            Traceback (most recent call last)",
      "Cell \u001b[1;32mIn[48], line 5\u001b[0m\n\u001b[0;32m      3\u001b[0m \u001b[38;5;28;01mfor\u001b[39;00m vehicle_id \u001b[38;5;129;01min\u001b[39;00m vehicle_ids:\n\u001b[0;32m      4\u001b[0m     crash_ids \u001b[38;5;241m=\u001b[39m df[df[\u001b[38;5;124m'\u001b[39m\u001b[38;5;124mVehicle ID\u001b[39m\u001b[38;5;124m'\u001b[39m] \u001b[38;5;241m==\u001b[39m vehicle_id][\u001b[38;5;124m'\u001b[39m\u001b[38;5;124mCrash ID\u001b[39m\u001b[38;5;124m'\u001b[39m]\u001b[38;5;241m.\u001b[39munique()\n\u001b[1;32m----> 5\u001b[0m     \u001b[38;5;28;01massert\u001b[39;00m \u001b[38;5;28mlen\u001b[39m(crash_ids) \u001b[38;5;241m==\u001b[39m \u001b[38;5;241m1\u001b[39m, \u001b[38;5;124mf\u001b[39m\u001b[38;5;124m\"\u001b[39m\u001b[38;5;124mVehicle ID \u001b[39m\u001b[38;5;132;01m{\u001b[39;00mvehicle_id\u001b[38;5;132;01m}\u001b[39;00m\u001b[38;5;124m is associated with \u001b[39m\u001b[38;5;132;01m{\u001b[39;00m\u001b[38;5;28mlen\u001b[39m(crash_ids)\u001b[38;5;132;01m}\u001b[39;00m\u001b[38;5;124m Crash IDs\u001b[39m\u001b[38;5;124m\"\u001b[39m\n\u001b[0;32m      6\u001b[0m \u001b[38;5;66;03m# Every Participant ID in the dataset should be associated with a valid Vehicle ID\u001b[39;00m\n\u001b[0;32m      7\u001b[0m participant_ids \u001b[38;5;241m=\u001b[39m df[\u001b[38;5;124m'\u001b[39m\u001b[38;5;124mParticipant ID\u001b[39m\u001b[38;5;124m'\u001b[39m]\u001b[38;5;241m.\u001b[39munique()\n",
      "\u001b[1;31mAssertionError\u001b[0m: Vehicle ID nan is associated with 0 Crash IDs"
     ]
    }
   ],
   "source": [
    "# Every Vehicle ID in the dataset should be associated with a valid Crash ID\n",
    "vehicle_ids = df['Vehicle ID'].unique()\n",
    "for vehicle_id in vehicle_ids:\n",
    "    crash_ids = df[df['Vehicle ID'] == vehicle_id]['Crash ID'].unique()\n",
    "    assert len(crash_ids) == 1, f\"Vehicle ID {vehicle_id} is associated with {len(crash_ids)} Crash IDs\"\n",
    "\n"
   ]
  },
  {
   "cell_type": "code",
   "execution_count": 51,
   "id": "27d914b3",
   "metadata": {},
   "outputs": [
    {
     "ename": "AssertionError",
     "evalue": "Participant ID nan is associated with 0 Vehicle IDs",
     "output_type": "error",
     "traceback": [
      "\u001b[1;31m---------------------------------------------------------------------------\u001b[0m",
      "\u001b[1;31mAssertionError\u001b[0m                            Traceback (most recent call last)",
      "Cell \u001b[1;32mIn[51], line 5\u001b[0m\n\u001b[0;32m      3\u001b[0m \u001b[38;5;28;01mfor\u001b[39;00m participant_id \u001b[38;5;129;01min\u001b[39;00m participant_ids:\n\u001b[0;32m      4\u001b[0m     vehicle_ids \u001b[38;5;241m=\u001b[39m df[df[\u001b[38;5;124m'\u001b[39m\u001b[38;5;124mParticipant ID\u001b[39m\u001b[38;5;124m'\u001b[39m] \u001b[38;5;241m==\u001b[39m participant_id][\u001b[38;5;124m'\u001b[39m\u001b[38;5;124mVehicle ID\u001b[39m\u001b[38;5;124m'\u001b[39m]\u001b[38;5;241m.\u001b[39munique()\n\u001b[1;32m----> 5\u001b[0m     \u001b[38;5;28;01massert\u001b[39;00m \u001b[38;5;28mlen\u001b[39m(vehicle_ids) \u001b[38;5;241m==\u001b[39m \u001b[38;5;241m1\u001b[39m, \u001b[38;5;124mf\u001b[39m\u001b[38;5;124m\"\u001b[39m\u001b[38;5;124mParticipant ID \u001b[39m\u001b[38;5;132;01m{\u001b[39;00mparticipant_id\u001b[38;5;132;01m}\u001b[39;00m\u001b[38;5;124m is associated with \u001b[39m\u001b[38;5;132;01m{\u001b[39;00m\u001b[38;5;28mlen\u001b[39m(vehicle_ids)\u001b[38;5;132;01m}\u001b[39;00m\u001b[38;5;124m Vehicle IDs\u001b[39m\u001b[38;5;124m\"\u001b[39m\n",
      "\u001b[1;31mAssertionError\u001b[0m: Participant ID nan is associated with 0 Vehicle IDs"
     ]
    }
   ],
   "source": [
    "# Every Participant ID in the dataset should be associated with a valid Vehicle ID\n",
    "participant_ids = df['Participant ID'].unique()\n",
    "for participant_id in participant_ids:\n",
    "    vehicle_ids = df[df['Participant ID'] == participant_id]['Vehicle ID'].unique()\n",
    "    assert len(vehicle_ids) == 1, f\"Participant ID {participant_id} is associated with {len(vehicle_ids)} Vehicle IDs\""
   ]
  },
  {
   "cell_type": "markdown",
   "id": "64ec6903",
   "metadata": {},
   "source": [
    "# summary assertions"
   ]
  },
  {
   "cell_type": "code",
   "execution_count": 49,
   "id": "fd254ca9",
   "metadata": {},
   "outputs": [],
   "source": [
    "# check that the number of rows in the dataframe is greater than 1000 but less than 1000000\n",
    "assert 1000 <= df.shape[0] < 1000000, \"The number of crashes is not in the expected range\"\n"
   ]
  },
  {
   "cell_type": "markdown",
   "id": "8df165d9",
   "metadata": {},
   "source": [
    "# statistical distribution assertions"
   ]
  },
  {
   "cell_type": "code",
   "execution_count": 50,
   "id": "42900e22",
   "metadata": {},
   "outputs": [
    {
     "ename": "AssertionError",
     "evalue": "Crashes are not evenly distributed throughout the months of the year",
     "output_type": "error",
     "traceback": [
      "\u001b[1;31m---------------------------------------------------------------------------\u001b[0m",
      "\u001b[1;31mAssertionError\u001b[0m                            Traceback (most recent call last)",
      "Cell \u001b[1;32mIn[50], line 5\u001b[0m\n\u001b[0;32m      3\u001b[0m mean_count \u001b[38;5;241m=\u001b[39m counts\u001b[38;5;241m.\u001b[39mmean()\n\u001b[0;32m      4\u001b[0m std_count \u001b[38;5;241m=\u001b[39m counts\u001b[38;5;241m.\u001b[39mstd()\n\u001b[1;32m----> 5\u001b[0m \u001b[38;5;28;01massert\u001b[39;00m \u001b[38;5;28mall\u001b[39m((counts \u001b[38;5;241m>\u001b[39m\u001b[38;5;241m=\u001b[39m mean_count \u001b[38;5;241m-\u001b[39m std_count) \u001b[38;5;241m&\u001b[39m (counts \u001b[38;5;241m<\u001b[39m\u001b[38;5;241m=\u001b[39m mean_count \u001b[38;5;241m+\u001b[39m std_count)), \u001b[38;5;124m\"\u001b[39m\u001b[38;5;124mCrashes are not evenly distributed throughout the months of the year\u001b[39m\u001b[38;5;124m\"\u001b[39m\n",
      "\u001b[1;31mAssertionError\u001b[0m: Crashes are not evenly distributed throughout the months of the year"
     ]
    }
   ],
   "source": [
    "# check that the number of crashes in each month is roughly the same\n",
    "counts = df['date'].dt.month.value_counts()\n",
    "mean_count = counts.mean()\n",
    "std_count = counts.std()\n",
    "assert all((counts >= mean_count - std_count) & (counts <= mean_count + std_count)), \"Crashes are not evenly distributed throughout the months of the year\"\n"
   ]
  },
  {
   "cell_type": "code",
   "execution_count": 68,
   "id": "f223361d",
   "metadata": {},
   "outputs": [],
   "source": [
    "df1 = df[df['Record Type'] == 1]\n",
    "df1 = df1.dropna(axis=1)\n",
    "df1.to_csv('crashes.csv', index=False)"
   ]
  },
  {
   "cell_type": "code",
   "execution_count": 69,
   "id": "8c3d84cb",
   "metadata": {},
   "outputs": [],
   "source": [
    "df2 = df[df['Record Type'] == 2]\n",
    "df2 = df2.dropna(axis=1)\n",
    "df2.to_csv('vehicles.csv', index=False)"
   ]
  },
  {
   "cell_type": "code",
   "execution_count": 70,
   "id": "65e985c0",
   "metadata": {},
   "outputs": [],
   "source": [
    "df3 = df[df['Record Type'] == 3]\n",
    "df3 = df3.dropna(axis=1)\n",
    "df3.to_csv('participants.csv', index=False)"
   ]
  },
  {
   "cell_type": "code",
   "execution_count": null,
   "id": "e73bc8d5",
   "metadata": {},
   "outputs": [],
   "source": []
  }
 ],
 "metadata": {
  "kernelspec": {
   "display_name": "Python 3 (ipykernel)",
   "language": "python",
   "name": "python3"
  },
  "language_info": {
   "codemirror_mode": {
    "name": "ipython",
    "version": 3
   },
   "file_extension": ".py",
   "mimetype": "text/x-python",
   "name": "python",
   "nbconvert_exporter": "python",
   "pygments_lexer": "ipython3",
   "version": "3.10.9"
  }
 },
 "nbformat": 4,
 "nbformat_minor": 5
}
