{
 "cells": [
  {
   "cell_type": "markdown",
   "id": "f07768d3",
   "metadata": {},
   "source": [
    "# Read this article and try it’s provided demonstration code for using Python (and JSON) to access the Open Weathermap API:\n",
    "\n",
    "https://www.geeksforgeeks.org/python-find-current-weather-of-any-city-using-openweathermap-api/ \n"
   ]
  },
  {
   "cell_type": "code",
   "execution_count": 1,
   "id": "2d88c314",
   "metadata": {},
   "outputs": [
    {
     "name": "stdout",
     "output_type": "stream",
     "text": [
      "Enter city name : Portland\n",
      "http://api.openweathermap.org/data/2.5/weather?appid=f32199d6f5c8f73851675f8c567d7319&q=Portland\n",
      " Temperature (in kelvin unit) = 286.94\n",
      " atmospheric pressure (in hPa unit) = 1015\n",
      " humidity (in percentage) = 49\n",
      " description = overcast clouds\n"
     ]
    }
   ],
   "source": [
    "# import required modules\n",
    "import requests, json\n",
    " \n",
    "# Enter your API key here\n",
    "api_key = \"f32199d6f5c8f73851675f8c567d7319\"\n",
    " \n",
    "# base_url variable to store url\n",
    "base_url = \"http://api.openweathermap.org/data/2.5/weather?\"\n",
    " \n",
    "# Give city name\n",
    "city_name = input(\"Enter city name : \")\n",
    " \n",
    "# complete_url variable to store\n",
    "# complete url address\n",
    "complete_url = base_url + \"appid=\" + api_key + \"&q=\" + city_name\n",
    "print(complete_url)\n",
    "# get method of requests module\n",
    "# return response object\n",
    "response = requests.get(complete_url)\n",
    " \n",
    "# json method of response object\n",
    "# convert json format data into\n",
    "# python format data\n",
    "x = response.json()\n",
    " \n",
    "# Now x contains list of nested dictionaries\n",
    "# Check the value of \"cod\" key is equal to\n",
    "# \"404\", means city is found otherwise,\n",
    "# city is not found\n",
    "if x[\"cod\"] != \"404\":\n",
    " \n",
    "    # store the value of \"main\"\n",
    "    # key in variable y\n",
    "    y = x[\"main\"]\n",
    " \n",
    "    # store the value corresponding\n",
    "    # to the \"temp\" key of y\n",
    "    current_temperature = y[\"temp\"]\n",
    " \n",
    "    # store the value corresponding\n",
    "    # to the \"pressure\" key of y\n",
    "    current_pressure = y[\"pressure\"]\n",
    " \n",
    "    # store the value corresponding\n",
    "    # to the \"humidity\" key of y\n",
    "    current_humidity = y[\"humidity\"]\n",
    " \n",
    "    # store the value of \"weather\"\n",
    "    # key in variable z\n",
    "    z = x[\"weather\"]\n",
    " \n",
    "    # store the value corresponding\n",
    "    # to the \"description\" key at\n",
    "    # the 0th index of z\n",
    "    weather_description = z[0][\"description\"]\n",
    " \n",
    "    # print following values\n",
    "    print(\" Temperature (in kelvin unit) = \" +\n",
    "                    str(current_temperature) +\n",
    "          \"\\n atmospheric pressure (in hPa unit) = \" +\n",
    "                    str(current_pressure) +\n",
    "          \"\\n humidity (in percentage) = \" +\n",
    "                    str(current_humidity) +\n",
    "          \"\\n description = \" +\n",
    "                    str(weather_description))\n",
    " \n",
    "else:\n",
    "    print(\" City Not Found \")"
   ]
  },
  {
   "cell_type": "markdown",
   "id": "48b74658",
   "metadata": {},
   "source": [
    "# Then develop a simple Python program that answers these questions:\n",
    "“Is it raining in Portland, OR?”\n"
   ]
  },
  {
   "cell_type": "code",
   "execution_count": 61,
   "id": "377c3f8e",
   "metadata": {},
   "outputs": [
    {
     "name": "stdout",
     "output_type": "stream",
     "text": [
      "Enter city name : London\n",
      "http://api.openweathermap.org/data/2.5/weather?appid=f32199d6f5c8f73851675f8c567d7319&q=London\n",
      "No, it is not raining in London\n"
     ]
    }
   ],
   "source": [
    "import requests\n",
    "\n",
    "api_key = \"f32199d6f5c8f73851675f8c567d7319\"\n",
    " \n",
    "# base_url variable to store url\n",
    "base_url = \"http://api.openweathermap.org/data/2.5/weather?\"\n",
    " \n",
    "# Give city name\n",
    "city_name = input(\"Enter city name : \")\n",
    " \n",
    "# complete_url variable to store\n",
    "# complete url address\n",
    "complete_url = base_url + \"appid=\" + api_key + \"&q=\" + city_name\n",
    "print(complete_url)\n",
    "# get method of requests module\n",
    "# return response object\n",
    "response = requests.get(complete_url)\n",
    "\n",
    "# json method of response object\n",
    "# convert json format data into\n",
    "# python format data\n",
    "x = response.json()\n",
    "\n",
    "# Now x contains list of nested dictionaries\n",
    "# Check the value of \"cod\" key is equal to\n",
    "# \"404\", means city is found otherwise,\n",
    "# city is not found\n",
    "if x[\"cod\"] != \"404\":\n",
    "\n",
    "    # store the value of \"weather\" key in variable z\n",
    "    z = x[\"weather\"]\n",
    "\n",
    "    # check if weather description includes \"rain\"\n",
    "    if any(\"rain\" in description[\"description\"].lower() for description in z):\n",
    "        print(f\"Yes, it is raining in {city_name}\")\n",
    "    else:\n",
    "        print(f\"No, it is not raining in {city_name}\")\n",
    "\n",
    "else:\n",
    "    print(\"City not found.\")\n"
   ]
  },
  {
   "cell_type": "markdown",
   "id": "24ab4234",
   "metadata": {},
   "source": [
    "# “Will it be raining when our class next meets?”"
   ]
  },
  {
   "cell_type": "code",
   "execution_count": 62,
   "id": "1c990d85",
   "metadata": {},
   "outputs": [
    {
     "name": "stdout",
     "output_type": "stream",
     "text": [
      "Enter city name : Portland\n",
      "Will it be raining when our class next meets?\n",
      "Yes, it will be raining in Portland on Monday, April 17, 2023.\n"
     ]
    }
   ],
   "source": [
    "# import required modules\n",
    "import requests, json\n",
    "from datetime import datetime, timedelta\n",
    "\n",
    "# Enter your API key here\n",
    "api_key = \"f32199d6f5c8f73851675f8c567d7319\"\n",
    "\n",
    "# base_url variable to store url\n",
    "base_url = \"https://api.openweathermap.org/data/2.5/forecast?\"\n",
    "\n",
    "# Give city name\n",
    "city_name = input(\"Enter city name : \")\n",
    " \n",
    "\n",
    "# complete_url variable to store\n",
    "# complete url address\n",
    "complete_url = base_url + \"appid=\" + api_key + \"&q=\" + city_name\n",
    "\n",
    "# get method of requests module\n",
    "# return response object\n",
    "response = requests.get(complete_url)\n",
    "\n",
    "# json method of response object\n",
    "# convert json format data into\n",
    "# python format data\n",
    "data = response.json()\n",
    "data_list = data['list']\n",
    "# Now data contains list of nested dictionaries\n",
    "# Check the value of \"cod\" key is equal to\n",
    "# \"404\", means city is found otherwise,\n",
    "# city is not found\n",
    "if data[\"cod\"] != \"404\":\n",
    "\n",
    "    class_datetime = datetime.strptime('2023-04-17 11:30:00', '%Y-%m-%d %H:%M:%S')\n",
    "    test = min(forecasts, key=lambda f: abs(datetime.fromisoformat(f[\"dt_txt\"]) - class_time))\n",
    "    print(\"Will it be raining when our class next meets?\")\n",
    "    # check if weather contains the string \"rain\" in the first item of the list\n",
    "    if \"rain\" in test['weather'][0][\"description\"].lower():\n",
    "        print(f\"Yes, it will be raining in {city_name} on {next_meeting_time.strftime('%A, %B %d, %Y')}.\")\n",
    "    else:\n",
    "        print(f\"No, it will not be raining in {city_name} on {next_meeting_time.strftime('%A, %B %d, %Y')}.\")\n",
    "else:\n",
    "    print(\"City Not Found\")\n"
   ]
  }
 ],
 "metadata": {
  "kernelspec": {
   "display_name": "Python 3 (ipykernel)",
   "language": "python",
   "name": "python3"
  },
  "language_info": {
   "codemirror_mode": {
    "name": "ipython",
    "version": 3
   },
   "file_extension": ".py",
   "mimetype": "text/x-python",
   "name": "python",
   "nbconvert_exporter": "python",
   "pygments_lexer": "ipython3",
   "version": "3.10.9"
  }
 },
 "nbformat": 4,
 "nbformat_minor": 5
}
