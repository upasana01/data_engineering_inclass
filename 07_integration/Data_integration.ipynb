{
 "cells": [
  {
   "cell_type": "markdown",
   "id": "efa74115",
   "metadata": {},
   "source": [
    "# A. Transform the ACS Data"
   ]
  },
  {
   "cell_type": "code",
   "execution_count": 12,
   "id": "b48471df",
   "metadata": {},
   "outputs": [
    {
     "name": "stdout",
     "output_type": "stream",
     "text": [
      "Index(['date', 'county', 'state', 'fips', 'cases', 'deaths'], dtype='object')\n"
     ]
    }
   ],
   "source": [
    "import pandas as pd\n",
    "\n",
    "file_path_1 = \"acs2017_census_tract_data.csv.gz\"\n",
    "file_path_2 = \"COVID_county_data.csv.gz\"\n",
    "\n",
    "df_census= pd.read_csv(file_path_1, compression='gzip')\n",
    "df_covid= pd.read_csv(file_path_2, compression='gzip',)\n",
    "\n",
    "print(df_covid.columns)\n"
   ]
  },
  {
   "cell_type": "code",
   "execution_count": 13,
   "id": "e6fb5c71",
   "metadata": {},
   "outputs": [],
   "source": [
    "# concate county and state\n",
    "df_census['County'] = df_census['County'].replace(' County','', regex=True)\n",
    "df_census['County_ID'] =  df_census['County'] + ',' + df_census['State']"
   ]
  },
  {
   "cell_type": "code",
   "execution_count": 14,
   "id": "f7a6736e",
   "metadata": {},
   "outputs": [],
   "source": [
    "# Filter only the needed columns\n",
    "needed_columns = ['County_ID', 'TotalPop', 'IncomePerCap', 'Poverty']\n",
    "df_census_filtered = df_census[needed_columns]\n",
    "\n",
    "# Aggregate the data at County level\n",
    "county_info = df_census_filtered.groupby('County_ID').agg({\n",
    "    'TotalPop': 'sum',  \n",
    "    'IncomePerCap': 'mean',   \n",
    "    'Poverty': 'mean',   \n",
    "}).reset_index()"
   ]
  },
  {
   "cell_type": "code",
   "execution_count": 18,
   "id": "1a939c2f",
   "metadata": {},
   "outputs": [],
   "source": [
    "county_info['ID'] = range(1, len(county_info) + 1)\n",
    "# Rename the columns\n",
    "county_info.columns = [ 'County', 'Population', 'PerCapitaIncome', 'Poverty', 'ID']"
   ]
  },
  {
   "cell_type": "code",
   "execution_count": 20,
   "id": "89c0905d",
   "metadata": {},
   "outputs": [
    {
     "data": {
      "text/html": [
       "<div>\n",
       "<style scoped>\n",
       "    .dataframe tbody tr th:only-of-type {\n",
       "        vertical-align: middle;\n",
       "    }\n",
       "\n",
       "    .dataframe tbody tr th {\n",
       "        vertical-align: top;\n",
       "    }\n",
       "\n",
       "    .dataframe thead th {\n",
       "        text-align: right;\n",
       "    }\n",
       "</style>\n",
       "<table border=\"1\" class=\"dataframe\">\n",
       "  <thead>\n",
       "    <tr style=\"text-align: right;\">\n",
       "      <th></th>\n",
       "      <th>County</th>\n",
       "      <th>Population</th>\n",
       "      <th>PerCapitaIncome</th>\n",
       "      <th>Poverty</th>\n",
       "      <th>ID</th>\n",
       "    </tr>\n",
       "  </thead>\n",
       "  <tbody>\n",
       "    <tr>\n",
       "      <th>0</th>\n",
       "      <td>Abbeville,South Carolina</td>\n",
       "      <td>24788</td>\n",
       "      <td>19402.833333</td>\n",
       "      <td>22.183333</td>\n",
       "      <td>1</td>\n",
       "    </tr>\n",
       "    <tr>\n",
       "      <th>1</th>\n",
       "      <td>Acadia Parish,Louisiana</td>\n",
       "      <td>62607</td>\n",
       "      <td>21454.250000</td>\n",
       "      <td>21.933333</td>\n",
       "      <td>2</td>\n",
       "    </tr>\n",
       "    <tr>\n",
       "      <th>2</th>\n",
       "      <td>Accomack,Virginia</td>\n",
       "      <td>32840</td>\n",
       "      <td>24769.750000</td>\n",
       "      <td>20.112500</td>\n",
       "      <td>3</td>\n",
       "    </tr>\n",
       "    <tr>\n",
       "      <th>3</th>\n",
       "      <td>Ada,Idaho</td>\n",
       "      <td>435117</td>\n",
       "      <td>32672.661017</td>\n",
       "      <td>12.608475</td>\n",
       "      <td>4</td>\n",
       "    </tr>\n",
       "    <tr>\n",
       "      <th>4</th>\n",
       "      <td>Adair,Iowa</td>\n",
       "      <td>7192</td>\n",
       "      <td>28840.666667</td>\n",
       "      <td>9.566667</td>\n",
       "      <td>5</td>\n",
       "    </tr>\n",
       "  </tbody>\n",
       "</table>\n",
       "</div>"
      ],
      "text/plain": [
       "                     County  Population  PerCapitaIncome    Poverty  ID\n",
       "0  Abbeville,South Carolina       24788     19402.833333  22.183333   1\n",
       "1   Acadia Parish,Louisiana       62607     21454.250000  21.933333   2\n",
       "2         Accomack,Virginia       32840     24769.750000  20.112500   3\n",
       "3                 Ada,Idaho      435117     32672.661017  12.608475   4\n",
       "4                Adair,Iowa        7192     28840.666667   9.566667   5"
      ]
     },
     "execution_count": 20,
     "metadata": {},
     "output_type": "execute_result"
    }
   ],
   "source": [
    "county_info.head()"
   ]
  },
  {
   "cell_type": "code",
   "execution_count": 21,
   "id": "18759ff8",
   "metadata": {},
   "outputs": [],
   "source": [
    "# Get the county data for specific counties\n",
    "selected_counties = ['Loudoun,Virginia', \n",
    "                     'Washington,Oregon', \n",
    "                     'Harlan,Kentucky', \n",
    "                     'Malheur,Oregon']"
   ]
  },
  {
   "cell_type": "code",
   "execution_count": 22,
   "id": "97ef8450",
   "metadata": {},
   "outputs": [
    {
     "name": "stdout",
     "output_type": "stream",
     "text": [
      "                 County  Population  PerCapitaIncome    Poverty    ID\n",
      "1234    Harlan,Kentucky       27548     16010.363636  33.318182  1235\n",
      "1759   Loudoun,Virginia      374558     50391.015625   3.884375  1760\n",
      "1822     Malheur,Oregon       30421     17966.428571  24.414286  1823\n",
      "3047  Washington,Oregon      572071     34970.817308  10.446154  3048\n"
     ]
    }
   ],
   "source": [
    "county_data = county_info[county_info['County'].isin(selected_counties)]\n",
    "\n",
    "print(county_data)\n"
   ]
  },
  {
   "cell_type": "code",
   "execution_count": 23,
   "id": "3583aa9e",
   "metadata": {},
   "outputs": [
    {
     "name": "stdout",
     "output_type": "stream",
     "text": [
      "Most populous county in the USA: Los Angeles,California\n",
      "Least populous county in the USA: Loving,Texas\n"
     ]
    }
   ],
   "source": [
    "# Most populous county\n",
    "most_populous_county = county_info[county_info['Population'] == county_info['Population'].max()]['County'].values[0]\n",
    "\n",
    "# # Least populous county\n",
    "least_populous_county = county_info[county_info['Population'] == county_info['Population'].min()]['County'].values[0]\n",
    "\n",
    "print(f'Most populous county in the USA: {most_populous_county}')\n",
    "print(f'Least populous county in the USA: {least_populous_county}')"
   ]
  },
  {
   "cell_type": "markdown",
   "id": "47a8aa30",
   "metadata": {},
   "source": [
    "# B. Transform the COVID Data"
   ]
  },
  {
   "cell_type": "code",
   "execution_count": 25,
   "id": "1378c7c2",
   "metadata": {},
   "outputs": [],
   "source": [
    "df_covid= pd.read_csv(file_path_2, compression='gzip',)\n",
    "df_covid['date'] = pd.to_datetime(df_covid['date'])"
   ]
  },
  {
   "cell_type": "code",
   "execution_count": 26,
   "id": "c286a57b",
   "metadata": {},
   "outputs": [],
   "source": [
    "# Add a county ID column that is a foreign key lookup to the corresponding ID column in the County_info DataFrame\n",
    "df_covid['county'] = df_covid['county'].replace(' County','', regex=True)\n",
    "df_covid['County_ID'] =  df_covid['county'] + ',' + df_covid['state']"
   ]
  },
  {
   "cell_type": "code",
   "execution_count": 27,
   "id": "d2f513c0",
   "metadata": {},
   "outputs": [],
   "source": [
    "# Create a 'month' column\n",
    "df_covid['month'] = df_covid['date'].dt.to_period('M')\n"
   ]
  },
  {
   "cell_type": "code",
   "execution_count": 28,
   "id": "978fb682",
   "metadata": {},
   "outputs": [],
   "source": [
    "# Group by 'County_ID' and 'month', then calculate the sum of 'cases' and 'deaths'\n",
    "df_covid_monthly = df_covid.groupby(['County_ID', 'month']).agg({\n",
    "    'cases': 'sum',\n",
    "    'deaths': 'sum',\n",
    "}).reset_index()"
   ]
  },
  {
   "cell_type": "code",
   "execution_count": 29,
   "id": "631abe3a",
   "metadata": {},
   "outputs": [],
   "source": [
    "df_covid_monthly['ID'] = range(1, len(df_covid_monthly) + 1)"
   ]
  },
  {
   "cell_type": "code",
   "execution_count": 30,
   "id": "03a9cb6c",
   "metadata": {},
   "outputs": [],
   "source": [
    "# Rename the columns\n",
    "df_covid_monthly.columns = ['County', 'Month', 'cases', 'deaths', 'ID']"
   ]
  },
  {
   "cell_type": "code",
   "execution_count": 32,
   "id": "d69e4730",
   "metadata": {},
   "outputs": [
    {
     "data": {
      "text/html": [
       "<div>\n",
       "<style scoped>\n",
       "    .dataframe tbody tr th:only-of-type {\n",
       "        vertical-align: middle;\n",
       "    }\n",
       "\n",
       "    .dataframe tbody tr th {\n",
       "        vertical-align: top;\n",
       "    }\n",
       "\n",
       "    .dataframe thead th {\n",
       "        text-align: right;\n",
       "    }\n",
       "</style>\n",
       "<table border=\"1\" class=\"dataframe\">\n",
       "  <thead>\n",
       "    <tr style=\"text-align: right;\">\n",
       "      <th></th>\n",
       "      <th>County</th>\n",
       "      <th>Month</th>\n",
       "      <th>cases</th>\n",
       "      <th>deaths</th>\n",
       "      <th>ID</th>\n",
       "    </tr>\n",
       "  </thead>\n",
       "  <tbody>\n",
       "    <tr>\n",
       "      <th>0</th>\n",
       "      <td>Abbeville,South Carolina</td>\n",
       "      <td>2020-03</td>\n",
       "      <td>32</td>\n",
       "      <td>0.0</td>\n",
       "      <td>1</td>\n",
       "    </tr>\n",
       "    <tr>\n",
       "      <th>1</th>\n",
       "      <td>Abbeville,South Carolina</td>\n",
       "      <td>2020-04</td>\n",
       "      <td>430</td>\n",
       "      <td>0.0</td>\n",
       "      <td>2</td>\n",
       "    </tr>\n",
       "    <tr>\n",
       "      <th>2</th>\n",
       "      <td>Abbeville,South Carolina</td>\n",
       "      <td>2020-05</td>\n",
       "      <td>1080</td>\n",
       "      <td>0.0</td>\n",
       "      <td>3</td>\n",
       "    </tr>\n",
       "    <tr>\n",
       "      <th>3</th>\n",
       "      <td>Abbeville,South Carolina</td>\n",
       "      <td>2020-06</td>\n",
       "      <td>2187</td>\n",
       "      <td>0.0</td>\n",
       "      <td>4</td>\n",
       "    </tr>\n",
       "    <tr>\n",
       "      <th>4</th>\n",
       "      <td>Abbeville,South Carolina</td>\n",
       "      <td>2020-07</td>\n",
       "      <td>5959</td>\n",
       "      <td>65.0</td>\n",
       "      <td>5</td>\n",
       "    </tr>\n",
       "  </tbody>\n",
       "</table>\n",
       "</div>"
      ],
      "text/plain": [
       "                     County    Month  cases  deaths  ID\n",
       "0  Abbeville,South Carolina  2020-03     32     0.0   1\n",
       "1  Abbeville,South Carolina  2020-04    430     0.0   2\n",
       "2  Abbeville,South Carolina  2020-05   1080     0.0   3\n",
       "3  Abbeville,South Carolina  2020-06   2187     0.0   4\n",
       "4  Abbeville,South Carolina  2020-07   5959    65.0   5"
      ]
     },
     "execution_count": 32,
     "metadata": {},
     "output_type": "execute_result"
    }
   ],
   "source": [
    "df_covid_monthly.head()"
   ]
  },
  {
   "cell_type": "code",
   "execution_count": 34,
   "id": "c9846ef9",
   "metadata": {},
   "outputs": [],
   "source": [
    "# Get the covid data for specific months for Malheur County, Oregon\n",
    "selected_months = ['2020-08', '2021-01', '2021-02']\n",
    "selected_county = 'Malheur,Oregon'"
   ]
  },
  {
   "cell_type": "code",
   "execution_count": 38,
   "id": "a3d4350a",
   "metadata": {},
   "outputs": [
    {
     "data": {
      "text/html": [
       "<div>\n",
       "<style scoped>\n",
       "    .dataframe tbody tr th:only-of-type {\n",
       "        vertical-align: middle;\n",
       "    }\n",
       "\n",
       "    .dataframe tbody tr th {\n",
       "        vertical-align: top;\n",
       "    }\n",
       "\n",
       "    .dataframe thead th {\n",
       "        text-align: right;\n",
       "    }\n",
       "</style>\n",
       "<table border=\"1\" class=\"dataframe\">\n",
       "  <thead>\n",
       "    <tr style=\"text-align: right;\">\n",
       "      <th></th>\n",
       "      <th>County</th>\n",
       "      <th>Month</th>\n",
       "      <th>cases</th>\n",
       "      <th>deaths</th>\n",
       "      <th>ID</th>\n",
       "    </tr>\n",
       "  </thead>\n",
       "  <tbody>\n",
       "    <tr>\n",
       "      <th>20777</th>\n",
       "      <td>Malheur,Oregon</td>\n",
       "      <td>2020-03</td>\n",
       "      <td>1</td>\n",
       "      <td>0.0</td>\n",
       "      <td>20778</td>\n",
       "    </tr>\n",
       "    <tr>\n",
       "      <th>20778</th>\n",
       "      <td>Malheur,Oregon</td>\n",
       "      <td>2020-04</td>\n",
       "      <td>125</td>\n",
       "      <td>0.0</td>\n",
       "      <td>20779</td>\n",
       "    </tr>\n",
       "    <tr>\n",
       "      <th>20779</th>\n",
       "      <td>Malheur,Oregon</td>\n",
       "      <td>2020-05</td>\n",
       "      <td>626</td>\n",
       "      <td>0.0</td>\n",
       "      <td>20780</td>\n",
       "    </tr>\n",
       "    <tr>\n",
       "      <th>20780</th>\n",
       "      <td>Malheur,Oregon</td>\n",
       "      <td>2020-06</td>\n",
       "      <td>1447</td>\n",
       "      <td>24.0</td>\n",
       "      <td>20781</td>\n",
       "    </tr>\n",
       "    <tr>\n",
       "      <th>20781</th>\n",
       "      <td>Malheur,Oregon</td>\n",
       "      <td>2020-07</td>\n",
       "      <td>12773</td>\n",
       "      <td>130.0</td>\n",
       "      <td>20782</td>\n",
       "    </tr>\n",
       "    <tr>\n",
       "      <th>20782</th>\n",
       "      <td>Malheur,Oregon</td>\n",
       "      <td>2020-08</td>\n",
       "      <td>28163</td>\n",
       "      <td>459.0</td>\n",
       "      <td>20783</td>\n",
       "    </tr>\n",
       "    <tr>\n",
       "      <th>20783</th>\n",
       "      <td>Malheur,Oregon</td>\n",
       "      <td>2020-09</td>\n",
       "      <td>43150</td>\n",
       "      <td>693.0</td>\n",
       "      <td>20784</td>\n",
       "    </tr>\n",
       "    <tr>\n",
       "      <th>20784</th>\n",
       "      <td>Malheur,Oregon</td>\n",
       "      <td>2020-10</td>\n",
       "      <td>56398</td>\n",
       "      <td>1061.0</td>\n",
       "      <td>20785</td>\n",
       "    </tr>\n",
       "    <tr>\n",
       "      <th>20785</th>\n",
       "      <td>Malheur,Oregon</td>\n",
       "      <td>2020-11</td>\n",
       "      <td>65787</td>\n",
       "      <td>1174.0</td>\n",
       "      <td>20786</td>\n",
       "    </tr>\n",
       "    <tr>\n",
       "      <th>20786</th>\n",
       "      <td>Malheur,Oregon</td>\n",
       "      <td>2020-12</td>\n",
       "      <td>82916</td>\n",
       "      <td>1465.0</td>\n",
       "      <td>20787</td>\n",
       "    </tr>\n",
       "    <tr>\n",
       "      <th>20787</th>\n",
       "      <td>Malheur,Oregon</td>\n",
       "      <td>2021-01</td>\n",
       "      <td>96297</td>\n",
       "      <td>1627.0</td>\n",
       "      <td>20788</td>\n",
       "    </tr>\n",
       "    <tr>\n",
       "      <th>20788</th>\n",
       "      <td>Malheur,Oregon</td>\n",
       "      <td>2021-02</td>\n",
       "      <td>65951</td>\n",
       "      <td>1137.0</td>\n",
       "      <td>20789</td>\n",
       "    </tr>\n",
       "  </tbody>\n",
       "</table>\n",
       "</div>"
      ],
      "text/plain": [
       "               County    Month  cases  deaths     ID\n",
       "20777  Malheur,Oregon  2020-03      1     0.0  20778\n",
       "20778  Malheur,Oregon  2020-04    125     0.0  20779\n",
       "20779  Malheur,Oregon  2020-05    626     0.0  20780\n",
       "20780  Malheur,Oregon  2020-06   1447    24.0  20781\n",
       "20781  Malheur,Oregon  2020-07  12773   130.0  20782\n",
       "20782  Malheur,Oregon  2020-08  28163   459.0  20783\n",
       "20783  Malheur,Oregon  2020-09  43150   693.0  20784\n",
       "20784  Malheur,Oregon  2020-10  56398  1061.0  20785\n",
       "20785  Malheur,Oregon  2020-11  65787  1174.0  20786\n",
       "20786  Malheur,Oregon  2020-12  82916  1465.0  20787\n",
       "20787  Malheur,Oregon  2021-01  96297  1627.0  20788\n",
       "20788  Malheur,Oregon  2021-02  65951  1137.0  20789"
      ]
     },
     "execution_count": 38,
     "metadata": {},
     "output_type": "execute_result"
    }
   ],
   "source": [
    "check= df_covid_monthly[df_covid_monthly['County'] == 'Malheur,Oregon']\n",
    "check"
   ]
  },
  {
   "cell_type": "code",
   "execution_count": 39,
   "id": "23c3f2b3",
   "metadata": {},
   "outputs": [
    {
     "name": "stdout",
     "output_type": "stream",
     "text": [
      "               County    Month  cases  deaths     ID\n",
      "20782  Malheur,Oregon  2020-08  28163   459.0  20783\n",
      "20787  Malheur,Oregon  2021-01  96297  1627.0  20788\n",
      "20788  Malheur,Oregon  2021-02  65951  1137.0  20789\n"
     ]
    }
   ],
   "source": [
    "covid_data = df_covid_monthly[(df_covid_monthly['County'] == selected_county) & \n",
    "                              (df_covid_monthly['Month'].astype(str).isin(selected_months))]\n",
    "\n",
    "print(covid_data)"
   ]
  },
  {
   "cell_type": "markdown",
   "id": "c3fb3e26",
   "metadata": {},
   "source": [
    "# Integrate COVID Data with ACS Data"
   ]
  },
  {
   "cell_type": "code",
   "execution_count": 40,
   "id": "530ca8ab",
   "metadata": {},
   "outputs": [],
   "source": [
    "# Merge the county_info and df_covid_monthly DataFrames on 'County'\n",
    "covid_summary = pd.merge(county_info, df_covid_monthly, on='County' )"
   ]
  },
  {
   "cell_type": "code",
   "execution_count": 41,
   "id": "e52d14a5",
   "metadata": {},
   "outputs": [],
   "source": [
    "# Sum 'cases' and 'deaths' over all months\n",
    "covid_summary_totals = covid_summary.groupby('County').agg({\n",
    "    'cases': 'sum',\n",
    "    'deaths': 'sum',\n",
    "}).reset_index()"
   ]
  },
  {
   "cell_type": "code",
   "execution_count": 42,
   "id": "b23f09f9",
   "metadata": {},
   "outputs": [],
   "source": [
    "# Merge the covid_summary_totals into covid_summary\n",
    "covid_summary = pd.merge(covid_summary, covid_summary_totals, on='County', suffixes=('', '_total'))"
   ]
  },
  {
   "cell_type": "code",
   "execution_count": 43,
   "id": "79ff0261",
   "metadata": {},
   "outputs": [],
   "source": [
    "# Calculate TotalCasesPer100K and TotalDeathsPer100K\n",
    "covid_summary['TotalCasesPer100K'] = covid_summary['cases_total'] / (covid_summary['Population'] / 100000)\n",
    "covid_summary['TotalDeathsPer100K'] = covid_summary['deaths_total'] / (covid_summary['Population'] / 100000)"
   ]
  },
  {
   "cell_type": "code",
   "execution_count": 44,
   "id": "a4013bec",
   "metadata": {},
   "outputs": [],
   "source": [
    "# Filter only needed columns\n",
    "covid_summary = covid_summary[['County', 'Population', 'Poverty', 'PerCapitaIncome', 'cases_total', 'deaths_total', 'TotalCasesPer100K', 'TotalDeathsPer100K']]"
   ]
  },
  {
   "cell_type": "code",
   "execution_count": 45,
   "id": "a3f00af7",
   "metadata": {},
   "outputs": [],
   "source": [
    "# Rename the columns\n",
    "covid_summary.columns = ['County', 'Population', 'Poverty', 'PerCapitaIncome', 'TotalCases', 'TotalDeaths', 'TotalCasesPer100K', 'TotalDeathsPer100K']"
   ]
  },
  {
   "cell_type": "code",
   "execution_count": 46,
   "id": "492f8fcb",
   "metadata": {},
   "outputs": [
    {
     "name": "stdout",
     "output_type": "stream",
     "text": [
      "                  County  Population    Poverty  PerCapitaIncome  TotalCases  \\\n",
      "13469    Harlan,Kentucky       27548  33.318182     16010.363636      205984   \n",
      "19192   Loudoun,Virginia      374558   3.884375     50391.015625     2496450   \n",
      "19880     Malheur,Oregon       30421  24.414286     17966.428571      453634   \n",
      "33307  Washington,Oregon      572071  10.446154     34970.817308     2157339   \n",
      "\n",
      "       TotalDeaths  TotalCasesPer100K  TotalDeathsPer100K  \n",
      "13469       3994.0       7.477276e+05        14498.330187  \n",
      "19192      35820.0       6.665056e+05         9563.271910  \n",
      "19880       7770.0       1.491187e+06        25541.566681  \n",
      "33307      22455.0       3.771104e+05         3925.212080  \n"
     ]
    }
   ],
   "source": [
    "# Get the covid summary data for specific counties\n",
    "selected_counties = ['Washington,Oregon', 'Malheur,Oregon', 'Loudoun,Virginia', 'Harlan,Kentucky']\n",
    "\n",
    "covid_summary_data = covid_summary[covid_summary['County'].isin(selected_counties)]\n",
    "\n",
    "print(covid_summary_data.drop_duplicates(subset='County'))"
   ]
  },
  {
   "cell_type": "markdown",
   "id": "6817b12a",
   "metadata": {},
   "source": [
    "# D. Analysis"
   ]
  },
  {
   "cell_type": "code",
   "execution_count": 47,
   "id": "9c41972f",
   "metadata": {},
   "outputs": [],
   "source": [
    "import seaborn as sns\n",
    "import matplotlib.pyplot as plt\n",
    "\n",
    "# Filter Oregon counties\n",
    "covid_summary_oregon = covid_summary[covid_summary['County'].str.contains('Oregon')]"
   ]
  },
  {
   "cell_type": "code",
   "execution_count": 48,
   "id": "11a7b07e",
   "metadata": {},
   "outputs": [],
   "source": [
    "# Compute correlations for Oregon\n",
    "R_cases_poverty_oregon = covid_summary_oregon['TotalCasesPer100K'].corr(covid_summary_oregon['Poverty'])\n",
    "R_deaths_poverty_oregon = covid_summary_oregon['TotalDeathsPer100K'].corr(covid_summary_oregon['Poverty'])\n",
    "R_cases_income_oregon = covid_summary_oregon['TotalCasesPer100K'].corr(covid_summary_oregon['PerCapitaIncome'])\n",
    "R_deaths_income_oregon = covid_summary_oregon['TotalDeathsPer100K'].corr(covid_summary_oregon['PerCapitaIncome'])"
   ]
  },
  {
   "cell_type": "code",
   "execution_count": 49,
   "id": "21259d99",
   "metadata": {},
   "outputs": [],
   "source": [
    "# Compute correlations for the entire USA\n",
    "R_cases_poverty_usa = covid_summary['TotalCasesPer100K'].corr(covid_summary['Poverty'])\n",
    "R_deaths_poverty_usa = covid_summary['TotalDeathsPer100K'].corr(covid_summary['Poverty'])\n",
    "R_cases_income_usa = covid_summary['TotalCasesPer100K'].corr(covid_summary['PerCapitaIncome'])\n",
    "R_deaths_income_usa = covid_summary['TotalDeathsPer100K'].corr(covid_summary['PerCapitaIncome'])"
   ]
  },
  {
   "cell_type": "code",
   "execution_count": 50,
   "id": "d77d5633",
   "metadata": {},
   "outputs": [
    {
     "name": "stdout",
     "output_type": "stream",
     "text": [
      "For Oregon Counties only: correlation between % poverty and COVID cases: 0.2447299686786285\n",
      "For all counties: correlation between population and COVID cases: 0.18944140940205254\n",
      "For Oregon counties only: correlation between PerCapitaIncome and COVID deaths: -0.3745502321691788\n",
      "For all USA counties: correlation between PerCapitaIncome and COVID cases: -0.20859423601453833\n"
     ]
    }
   ],
   "source": [
    "# Fill your table (just a print statement here)\n",
    "print(f\"For Oregon Counties only: correlation between % poverty and COVID cases: {R_cases_poverty_oregon}\")\n",
    "print(f\"For all counties: correlation between population and COVID cases: {R_cases_poverty_usa}\")\n",
    "print(f\"For Oregon counties only: correlation between PerCapitaIncome and COVID deaths: {R_deaths_income_oregon}\")\n",
    "print(f\"For all USA counties: correlation between PerCapitaIncome and COVID cases: {R_cases_income_usa}\")"
   ]
  },
  {
   "cell_type": "code",
   "execution_count": 51,
   "id": "a25404b3",
   "metadata": {},
   "outputs": [
    {
     "name": "stdout",
     "output_type": "stream",
     "text": [
      "For all USA counties: correlation between PerCapitaIncome and Poverty: -0.7032400691324645\n"
     ]
    }
   ],
   "source": [
    "# Additional correlation computation \n",
    "# (example: correlation between PerCapitaIncome and Poverty for all USA counties)\n",
    "R_income_poverty_usa = covid_summary['PerCapitaIncome'].corr(covid_summary['Poverty'])\n",
    "print(f\"For all USA counties: correlation between PerCapitaIncome and Poverty: {R_income_poverty_usa}\")"
   ]
  },
  {
   "cell_type": "code",
   "execution_count": 59,
   "id": "a5437feb",
   "metadata": {},
   "outputs": [
    {
     "data": {
      "image/png": "[encoded data removed]",
      "text/plain": [
       "<Figure size 1000x500 with 1 Axes>"
      ]
     },
     "metadata": {},
     "output_type": "display_data"
    }
   ],
   "source": [
    "# Generate scatter plot if |R| > 0.5\n",
    "if abs(R_cases_poverty_oregon) > 0.2:\n",
    "    plt.figure(figsize=(10, 5))\n",
    "    sns.scatterplot(x='Poverty', y='TotalCasesPer100K', data=covid_summary_oregon)\n",
    "    plt.title(\"Oregon Counties: Total COVID cases vs. % Poverty\")\n",
    "    plt.show()"
   ]
  },
  {
   "cell_type": "code",
   "execution_count": null,
   "id": "e04b3571",
   "metadata": {},
   "outputs": [],
   "source": []
  }
 ],
 "metadata": {
  "kernelspec": {
   "display_name": "Python 3 (ipykernel)",
   "language": "python",
   "name": "python3"
  },
  "language_info": {
   "codemirror_mode": {
    "name": "ipython",
    "version": 3
   },
   "file_extension": ".py",
   "mimetype": "text/x-python",
   "name": "python",
   "nbconvert_exporter": "python",
   "pygments_lexer": "ipython3",
   "version": "3.10.9"
  }
 },
 "nbformat": 4,
 "nbformat_minor": 5
}
